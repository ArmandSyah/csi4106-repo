{
 "nbformat": 4,
 "nbformat_minor": 2,
 "metadata": {
  "language_info": {
   "name": "python",
   "codemirror_mode": {
    "name": "ipython",
    "version": 3
   }
  },
  "orig_nbformat": 2,
  "file_extension": ".py",
  "mimetype": "text/x-python",
  "name": "python",
  "npconvert_exporter": "python",
  "pygments_lexer": "ipython3",
  "version": 3
 },
 "cells": [
  {
   "cell_type": "markdown",
   "execution_count": null,
   "metadata": {},
   "outputs": [],
   "source": [
    "About to create a Word2Vec model using the review text"
   ]
  },
  {
   "cell_type": "code",
   "execution_count": 20,
   "metadata": {},
   "outputs": [],
   "source": [
    "import os\n",
    "import pandas as pd\n",
    "import math\n",
    "from nltk import word_tokenize\n",
    "from gensim.models import Word2Vec"
   ]
  },
  {
   "cell_type": "code",
   "execution_count": 23,
   "metadata": {},
   "outputs": [],
   "source": [
    "df = pd.read_csv('Datasets\\\\processedAnimeReviews.csv')\n",
    "reviews = df['review'].tolist()\n",
    "tokenized_review_list = []\n",
    "for review in reviews:\n",
    "    if type(review) == float:\n",
    "        continue\n",
    "    tokenized_review = word_tokenize(review)\n",
    "    tokenized_review_list.append(tokenized_review)"
   ]
  },
  {
   "cell_type": "code",
   "execution_count": 24,
   "metadata": {},
   "outputs": [],
   "source": [
    "model = Word2Vec(tokenized_review_list, size=100, min_count=1, iter=5)"
   ]
  },
  {
   "cell_type": "code",
   "execution_count": 25,
   "metadata": {},
   "outputs": [
    {
     "data": {
      "text/plain": "[('fight', 0.6722978353500366),\n ('fighting', 0.6391028165817261),\n ('battle', 0.6150970458984375),\n ('digivoltuion', 0.5942258834838867),\n ('combat', 0.5644313097000122),\n ('drama', 0.534845769405365),\n ('atcion', 0.5303385257720947),\n ('knowabouts', 0.5210549235343933),\n ('intense', 0.5140565633773804),\n ('taigi', 0.5102517604827881)]"
     },
     "execution_count": 25,
     "metadata": {},
     "output_type": "execute_result"
    }
   ],
   "source": [
    "model.wv.most_similar(positive=['action'], topn=10)"
   ]
  },
  {
   "cell_type": "code",
   "execution_count": 29,
   "metadata": {},
   "outputs": [
    {
     "name": "stdout",
     "output_type": "stream",
     "text": "Word2Vec(vocab=170072, size=100, alpha=0.025)\n"
    }
   ],
   "source": [
    "print(model)\n",
    "model.save('Models\\\\w2vmodel.bin')"
   ]
  }
 ]
}