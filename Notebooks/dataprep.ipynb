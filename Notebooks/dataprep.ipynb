{
 "cells": [
  {
   "cell_type": "code",
   "execution_count": 1,
   "metadata": {},
   "outputs": [
    {
     "name": "stdout",
     "output_type": "stream",
     "text": [
      "showing info https://raw.githubusercontent.com/nltk/nltk_data/gh-pages/index.xml\n"
     ]
    },
    {
     "data": {
      "text/plain": [
       "True"
      ]
     },
     "execution_count": 1,
     "metadata": {},
     "output_type": "execute_result"
    }
   ],
   "source": [
    "import nltk\n",
    "nltk.download()"
   ]
  },
  {
   "cell_type": "code",
   "execution_count": 1,
   "metadata": {},
   "outputs": [],
   "source": [
    "import pandas as pd\n",
    "import numpy as np\n",
    "import os\n",
    "\n",
    "pd.set_option('display.max_colwidth', 50)"
   ]
  },
  {
   "cell_type": "code",
   "execution_count": 5,
   "metadata": {},
   "outputs": [
    {
     "name": "stderr",
     "output_type": "stream",
     "text": [
      "D:\\ProgramData\\Anaconda3\\envs\\csi-4106-project\\lib\\site-packages\\IPython\\core\\interactiveshell.py:3058: DtypeWarning: Columns (5) have mixed types. Specify dtype option on import or set low_memory=False.\n",
      "  interactivity=interactivity, compiler=compiler, result=result)\n"
     ]
    },
    {
     "data": {
      "text/html": [
       "<div>\n",
       "<style scoped>\n",
       "    .dataframe tbody tr th:only-of-type {\n",
       "        vertical-align: middle;\n",
       "    }\n",
       "\n",
       "    .dataframe tbody tr th {\n",
       "        vertical-align: top;\n",
       "    }\n",
       "\n",
       "    .dataframe thead th {\n",
       "        text-align: right;\n",
       "    }\n",
       "</style>\n",
       "<table border=\"1\" class=\"dataframe\">\n",
       "  <thead>\n",
       "    <tr style=\"text-align: right;\">\n",
       "      <th></th>\n",
       "      <th>id</th>\n",
       "      <th>workName</th>\n",
       "      <th>overallRating</th>\n",
       "      <th>review</th>\n",
       "    </tr>\n",
       "  </thead>\n",
       "  <tbody>\n",
       "    <tr>\n",
       "      <th>0</th>\n",
       "      <td>8121</td>\n",
       "      <td>Cowboy_Bebop</td>\n",
       "      <td>10</td>\n",
       "      <td>Cowboy Bebop is an episodic series. By episodi...</td>\n",
       "    </tr>\n",
       "    <tr>\n",
       "      <th>1</th>\n",
       "      <td>63480</td>\n",
       "      <td>Utawarerumono</td>\n",
       "      <td>8</td>\n",
       "      <td>Utawarerumono manages to be one of those harem...</td>\n",
       "    </tr>\n",
       "    <tr>\n",
       "      <th>2</th>\n",
       "      <td>8452</td>\n",
       "      <td>Hajime_no_Ippo</td>\n",
       "      <td>10</td>\n",
       "      <td>First, let me say that I\\\\'m not a fan of boxi...</td>\n",
       "    </tr>\n",
       "    <tr>\n",
       "      <th>3</th>\n",
       "      <td>66544</td>\n",
       "      <td>Gensoumaden_Saiyuuki</td>\n",
       "      <td>9</td>\n",
       "      <td>Saiyuki is one of those animes that just grabs...</td>\n",
       "    </tr>\n",
       "    <tr>\n",
       "      <th>4</th>\n",
       "      <td>55936</td>\n",
       "      <td>Ranma_½</td>\n",
       "      <td>7</td>\n",
       "      <td>A comedy/romance based on the manga by Rumiko ...</td>\n",
       "    </tr>\n",
       "    <tr>\n",
       "      <th>5</th>\n",
       "      <td>22039</td>\n",
       "      <td>Kino_no_Tabi__The_Beautiful_World</td>\n",
       "      <td>9</td>\n",
       "      <td>What do you say about an anime that is just ab...</td>\n",
       "    </tr>\n",
       "    <tr>\n",
       "      <th>6</th>\n",
       "      <td>68626</td>\n",
       "      <td>Kareshi_Kanojo_no_Jijou</td>\n",
       "      <td>8</td>\n",
       "      <td>Kare Kano was a romance anime that could have ...</td>\n",
       "    </tr>\n",
       "    <tr>\n",
       "      <th>7</th>\n",
       "      <td>18797</td>\n",
       "      <td>Hunter_x_Hunter</td>\n",
       "      <td>10</td>\n",
       "      <td>Overall:  My very best anime and i haven't act...</td>\n",
       "    </tr>\n",
       "    <tr>\n",
       "      <th>8</th>\n",
       "      <td>43899</td>\n",
       "      <td>Golden_Boy</td>\n",
       "      <td>10</td>\n",
       "      <td>Overall:Honestly I really don't care about oth...</td>\n",
       "    </tr>\n",
       "    <tr>\n",
       "      <th>9</th>\n",
       "      <td>18796</td>\n",
       "      <td>Hunter_x_Hunter</td>\n",
       "      <td>10</td>\n",
       "      <td>Hunters… What do you think about when you hear...</td>\n",
       "    </tr>\n",
       "  </tbody>\n",
       "</table>\n",
       "</div>"
      ],
      "text/plain": [
       "      id                           workName  overallRating  \\\n",
       "0   8121                       Cowboy_Bebop             10   \n",
       "1  63480                      Utawarerumono              8   \n",
       "2   8452                     Hajime_no_Ippo             10   \n",
       "3  66544               Gensoumaden_Saiyuuki              9   \n",
       "4  55936                            Ranma_½              7   \n",
       "5  22039  Kino_no_Tabi__The_Beautiful_World              9   \n",
       "6  68626            Kareshi_Kanojo_no_Jijou              8   \n",
       "7  18797                    Hunter_x_Hunter             10   \n",
       "8  43899                         Golden_Boy             10   \n",
       "9  18796                    Hunter_x_Hunter             10   \n",
       "\n",
       "                                              review  \n",
       "0  Cowboy Bebop is an episodic series. By episodi...  \n",
       "1  Utawarerumono manages to be one of those harem...  \n",
       "2  First, let me say that I\\\\'m not a fan of boxi...  \n",
       "3  Saiyuki is one of those animes that just grabs...  \n",
       "4  A comedy/romance based on the manga by Rumiko ...  \n",
       "5  What do you say about an anime that is just ab...  \n",
       "6  Kare Kano was a romance anime that could have ...  \n",
       "7  Overall:  My very best anime and i haven't act...  \n",
       "8  Overall:Honestly I really don't care about oth...  \n",
       "9  Hunters… What do you think about when you hear...  "
      ]
     },
     "execution_count": 5,
     "metadata": {},
     "output_type": "execute_result"
    }
   ],
   "source": [
    "colnames = ['id', 'workName', 'overallRating', 'review']\n",
    "df = pd.read_csv(os.path.abspath('../Datasets/animeReviewsOrderByTime.csv'), usecols=np.arange(15))\n",
    "df = df[colnames]\n",
    "df = df.dropna()\n",
    "df = df.drop(df[df['review'] == ''].index)\n",
    "df.head(10)"
   ]
  },
  {
   "cell_type": "code",
   "execution_count": 7,
   "metadata": {},
   "outputs": [],
   "source": [
    "import string\n",
    "from nltk import word_tokenize\n",
    "from nltk.corpus import stopwords\n",
    "from nltk.stem import WordNetLemmatizer\n",
    "from nltk.tokenize.treebank import TreebankWordDetokenizer\n",
    "\n",
    "english_stopwords = stopwords.words('english')\n",
    "lemmatizer = WordNetLemmatizer()\n",
    "detokenizer = TreebankWordDetokenizer()\n",
    "punctuation_to_remove = string.punctuation\n",
    "punctuation_to_remove = punctuation_to_remove.replace('.', '')\n",
    "\n",
    "def preprocess_text(text: str, split_word: bool = True):\n",
    "    text = text.lower() # lower the case\n",
    "    text = text.strip()\n",
    "    text = \"\".join([c if c not in punctuation_to_remove else ' ' for c in text]) # take out punctuation\n",
    "    tokens = word_tokenize(text) # tokenize text\n",
    "    tokens = [w for w in tokens if w not in english_stopwords] # remove stopwords\n",
    "    tokens = [lemmatizer.lemmatize(w) for w in tokens] # lemmatize all the words\n",
    "    tokens = [w for w in tokens if w.isalpha()]\n",
    "    return detokenizer.detokenize(tokens)"
   ]
  },
  {
   "cell_type": "code",
   "execution_count": 8,
   "metadata": {},
   "outputs": [
    {
     "data": {
      "text/plain": [
       "0    cowboy bebop episodic series episodic mean one...\n",
       "1    utawarerumono manages one harem anime anyone p...\n",
       "2    first let say fan boxing fact pretty much hate...\n",
       "3    saiyuki one anime grab first episode let go ev...\n",
       "4    comedy romance based manga rumiko takahashi ra...\n",
       "5    say anime traveler journeying different countr...\n",
       "6    kare kano romance anime could become incredibl...\n",
       "7    overall best anime actually seen anything else...\n",
       "8    overall honestly really care others opinion an...\n",
       "9    think hear anime people killing poor cute anim...\n",
       "Name: review, dtype: object"
      ]
     },
     "execution_count": 8,
     "metadata": {},
     "output_type": "execute_result"
    }
   ],
   "source": [
    "df['review'] = df['review'].apply(lambda x: preprocess_text(x))\n",
    "df['review'].head(10)"
   ]
  },
  {
   "cell_type": "code",
   "execution_count": 9,
   "metadata": {},
   "outputs": [
    {
     "data": {
      "text/html": [
       "<div>\n",
       "<style scoped>\n",
       "    .dataframe tbody tr th:only-of-type {\n",
       "        vertical-align: middle;\n",
       "    }\n",
       "\n",
       "    .dataframe tbody tr th {\n",
       "        vertical-align: top;\n",
       "    }\n",
       "\n",
       "    .dataframe thead th {\n",
       "        text-align: right;\n",
       "    }\n",
       "</style>\n",
       "<table border=\"1\" class=\"dataframe\">\n",
       "  <thead>\n",
       "    <tr style=\"text-align: right;\">\n",
       "      <th></th>\n",
       "      <th>id</th>\n",
       "      <th>workName</th>\n",
       "      <th>overallRating</th>\n",
       "      <th>review</th>\n",
       "      <th>sentiment</th>\n",
       "    </tr>\n",
       "  </thead>\n",
       "  <tbody>\n",
       "    <tr>\n",
       "      <th>0</th>\n",
       "      <td>8121</td>\n",
       "      <td>Cowboy_Bebop</td>\n",
       "      <td>10</td>\n",
       "      <td>cowboy bebop episodic series episodic mean one...</td>\n",
       "      <td>1</td>\n",
       "    </tr>\n",
       "    <tr>\n",
       "      <th>1</th>\n",
       "      <td>63480</td>\n",
       "      <td>Utawarerumono</td>\n",
       "      <td>8</td>\n",
       "      <td>utawarerumono manages one harem anime anyone p...</td>\n",
       "      <td>1</td>\n",
       "    </tr>\n",
       "    <tr>\n",
       "      <th>2</th>\n",
       "      <td>8452</td>\n",
       "      <td>Hajime_no_Ippo</td>\n",
       "      <td>10</td>\n",
       "      <td>first let say fan boxing fact pretty much hate...</td>\n",
       "      <td>1</td>\n",
       "    </tr>\n",
       "    <tr>\n",
       "      <th>3</th>\n",
       "      <td>66544</td>\n",
       "      <td>Gensoumaden_Saiyuuki</td>\n",
       "      <td>9</td>\n",
       "      <td>saiyuki one anime grab first episode let go ev...</td>\n",
       "      <td>1</td>\n",
       "    </tr>\n",
       "    <tr>\n",
       "      <th>4</th>\n",
       "      <td>55936</td>\n",
       "      <td>Ranma_½</td>\n",
       "      <td>7</td>\n",
       "      <td>comedy romance based manga rumiko takahashi ra...</td>\n",
       "      <td>1</td>\n",
       "    </tr>\n",
       "    <tr>\n",
       "      <th>5</th>\n",
       "      <td>22039</td>\n",
       "      <td>Kino_no_Tabi__The_Beautiful_World</td>\n",
       "      <td>9</td>\n",
       "      <td>say anime traveler journeying different countr...</td>\n",
       "      <td>1</td>\n",
       "    </tr>\n",
       "    <tr>\n",
       "      <th>6</th>\n",
       "      <td>68626</td>\n",
       "      <td>Kareshi_Kanojo_no_Jijou</td>\n",
       "      <td>8</td>\n",
       "      <td>kare kano romance anime could become incredibl...</td>\n",
       "      <td>1</td>\n",
       "    </tr>\n",
       "    <tr>\n",
       "      <th>7</th>\n",
       "      <td>18797</td>\n",
       "      <td>Hunter_x_Hunter</td>\n",
       "      <td>10</td>\n",
       "      <td>overall best anime actually seen anything else...</td>\n",
       "      <td>1</td>\n",
       "    </tr>\n",
       "    <tr>\n",
       "      <th>8</th>\n",
       "      <td>43899</td>\n",
       "      <td>Golden_Boy</td>\n",
       "      <td>10</td>\n",
       "      <td>overall honestly really care others opinion an...</td>\n",
       "      <td>1</td>\n",
       "    </tr>\n",
       "    <tr>\n",
       "      <th>9</th>\n",
       "      <td>18796</td>\n",
       "      <td>Hunter_x_Hunter</td>\n",
       "      <td>10</td>\n",
       "      <td>think hear anime people killing poor cute anim...</td>\n",
       "      <td>1</td>\n",
       "    </tr>\n",
       "  </tbody>\n",
       "</table>\n",
       "</div>"
      ],
      "text/plain": [
       "      id                           workName  overallRating  \\\n",
       "0   8121                       Cowboy_Bebop             10   \n",
       "1  63480                      Utawarerumono              8   \n",
       "2   8452                     Hajime_no_Ippo             10   \n",
       "3  66544               Gensoumaden_Saiyuuki              9   \n",
       "4  55936                            Ranma_½              7   \n",
       "5  22039  Kino_no_Tabi__The_Beautiful_World              9   \n",
       "6  68626            Kareshi_Kanojo_no_Jijou              8   \n",
       "7  18797                    Hunter_x_Hunter             10   \n",
       "8  43899                         Golden_Boy             10   \n",
       "9  18796                    Hunter_x_Hunter             10   \n",
       "\n",
       "                                              review  sentiment  \n",
       "0  cowboy bebop episodic series episodic mean one...          1  \n",
       "1  utawarerumono manages one harem anime anyone p...          1  \n",
       "2  first let say fan boxing fact pretty much hate...          1  \n",
       "3  saiyuki one anime grab first episode let go ev...          1  \n",
       "4  comedy romance based manga rumiko takahashi ra...          1  \n",
       "5  say anime traveler journeying different countr...          1  \n",
       "6  kare kano romance anime could become incredibl...          1  \n",
       "7  overall best anime actually seen anything else...          1  \n",
       "8  overall honestly really care others opinion an...          1  \n",
       "9  think hear anime people killing poor cute anim...          1  "
      ]
     },
     "execution_count": 9,
     "metadata": {},
     "output_type": "execute_result"
    }
   ],
   "source": [
    "# determines whether score is positive (1) or not (0)\n",
    "def determine_sentiment(score: int):\n",
    "    return 1 if score > 5 else 0\n",
    "\n",
    "df['sentiment'] = df['overallRating'].apply(lambda x: determine_sentiment(x))\n",
    "df.head(10)"
   ]
  },
  {
   "cell_type": "code",
   "execution_count": 10,
   "metadata": {},
   "outputs": [
    {
     "data": {
      "text/plain": [
       "1    109376\n",
       "0     25823\n",
       "Name: sentiment, dtype: int64"
      ]
     },
     "execution_count": 10,
     "metadata": {},
     "output_type": "execute_result"
    }
   ],
   "source": [
    "df['sentiment'].value_counts()"
   ]
  },
  {
   "cell_type": "code",
   "execution_count": 12,
   "metadata": {},
   "outputs": [],
   "source": [
    "df['review'].replace('', np.nan, inplace=True)\n",
    "df.dropna(subset=['review'], inplace=True)\n",
    "df.to_csv('../Datasets/processedAnimeReviews.csv', encoding='utf-8', index=False)"
   ]
  },
  {
   "cell_type": "markdown",
   "metadata": {},
   "source": [
    "## EDA"
   ]
  },
  {
   "cell_type": "code",
   "execution_count": 42,
   "metadata": {},
   "outputs": [],
   "source": [
    "import seaborn as sns\n",
    "sns.set()\n",
    "\n",
    "# Display all outputs\n",
    "from IPython.core.interactiveshell import InteractiveShell\n",
    "InteractiveShell.ast_node_interactivity = \"all\""
   ]
  },
  {
   "cell_type": "code",
   "execution_count": 19,
   "metadata": {},
   "outputs": [
    {
     "data": {
      "text/html": [
       "<div>\n",
       "<style scoped>\n",
       "    .dataframe tbody tr th:only-of-type {\n",
       "        vertical-align: middle;\n",
       "    }\n",
       "\n",
       "    .dataframe tbody tr th {\n",
       "        vertical-align: top;\n",
       "    }\n",
       "\n",
       "    .dataframe thead th {\n",
       "        text-align: right;\n",
       "    }\n",
       "</style>\n",
       "<table border=\"1\" class=\"dataframe\">\n",
       "  <thead>\n",
       "    <tr style=\"text-align: right;\">\n",
       "      <th></th>\n",
       "      <th>count</th>\n",
       "      <th>mean</th>\n",
       "      <th>std</th>\n",
       "      <th>min</th>\n",
       "      <th>25%</th>\n",
       "      <th>50%</th>\n",
       "      <th>75%</th>\n",
       "      <th>max</th>\n",
       "    </tr>\n",
       "  </thead>\n",
       "  <tbody>\n",
       "    <tr>\n",
       "      <th>id</th>\n",
       "      <td>135181.0</td>\n",
       "      <td>124980.969152</td>\n",
       "      <td>230978.049574</td>\n",
       "      <td>169.0</td>\n",
       "      <td>37259.0</td>\n",
       "      <td>71570.0</td>\n",
       "      <td>105655.0</td>\n",
       "      <td>1116393.0</td>\n",
       "    </tr>\n",
       "    <tr>\n",
       "      <th>overallRating</th>\n",
       "      <td>135181.0</td>\n",
       "      <td>7.400959</td>\n",
       "      <td>2.295520</td>\n",
       "      <td>0.0</td>\n",
       "      <td>6.0</td>\n",
       "      <td>8.0</td>\n",
       "      <td>9.0</td>\n",
       "      <td>11.0</td>\n",
       "    </tr>\n",
       "    <tr>\n",
       "      <th>sentiment</th>\n",
       "      <td>135181.0</td>\n",
       "      <td>0.808982</td>\n",
       "      <td>0.393105</td>\n",
       "      <td>0.0</td>\n",
       "      <td>1.0</td>\n",
       "      <td>1.0</td>\n",
       "      <td>1.0</td>\n",
       "      <td>1.0</td>\n",
       "    </tr>\n",
       "  </tbody>\n",
       "</table>\n",
       "</div>"
      ],
      "text/plain": [
       "                  count           mean            std    min      25%  \\\n",
       "id             135181.0  124980.969152  230978.049574  169.0  37259.0   \n",
       "overallRating  135181.0       7.400959       2.295520    0.0      6.0   \n",
       "sentiment      135181.0       0.808982       0.393105    0.0      1.0   \n",
       "\n",
       "                   50%       75%        max  \n",
       "id             71570.0  105655.0  1116393.0  \n",
       "overallRating      8.0       9.0       11.0  \n",
       "sentiment          1.0       1.0        1.0  "
      ]
     },
     "execution_count": 19,
     "metadata": {},
     "output_type": "execute_result"
    }
   ],
   "source": [
    "df.describe().T"
   ]
  },
  {
   "cell_type": "code",
   "execution_count": 40,
   "metadata": {},
   "outputs": [
    {
     "data": {
      "image/png": "[encoded data removed]",
      "text/plain": [
       "<Figure size 432x288 with 1 Axes>"
      ]
     },
     "metadata": {},
     "output_type": "display_data"
    }
   ],
   "source": [
    "g = sns.countplot(df['overallRating'])"
   ]
  },
  {
   "cell_type": "markdown",
   "metadata": {},
   "source": [
    "Reviews are skewed to the left meaning much more positives reviews with average overall rating of 7.4"
   ]
  },
  {
   "cell_type": "code",
   "execution_count": 31,
   "metadata": {},
   "outputs": [
    {
     "data": {
      "text/html": [
       "<div>\n",
       "<style scoped>\n",
       "    .dataframe tbody tr th:only-of-type {\n",
       "        vertical-align: middle;\n",
       "    }\n",
       "\n",
       "    .dataframe tbody tr th {\n",
       "        vertical-align: top;\n",
       "    }\n",
       "\n",
       "    .dataframe thead th {\n",
       "        text-align: right;\n",
       "    }\n",
       "</style>\n",
       "<table border=\"1\" class=\"dataframe\">\n",
       "  <thead>\n",
       "    <tr style=\"text-align: right;\">\n",
       "      <th></th>\n",
       "      <th>id</th>\n",
       "      <th>workName</th>\n",
       "      <th>overallRating</th>\n",
       "      <th>review</th>\n",
       "      <th>sentiment</th>\n",
       "    </tr>\n",
       "  </thead>\n",
       "  <tbody>\n",
       "    <tr>\n",
       "      <th>3361</th>\n",
       "      <td>62646</td>\n",
       "      <td>Elfen_Lied</td>\n",
       "      <td>0</td>\n",
       "      <td>loved elfen lied thriller anime myriad emotion...</td>\n",
       "      <td>0</td>\n",
       "    </tr>\n",
       "    <tr>\n",
       "      <th>97599</th>\n",
       "      <td>124865</td>\n",
       "      <td>Hametsu_no_Mars</td>\n",
       "      <td>11</td>\n",
       "      <td>contemporanean masterpiece look sound everythi...</td>\n",
       "      <td>1</td>\n",
       "    </tr>\n",
       "    <tr>\n",
       "      <th>100103</th>\n",
       "      <td>124809</td>\n",
       "      <td>Nami</td>\n",
       "      <td>0</td>\n",
       "      <td>stop motion animation certainly good example t...</td>\n",
       "      <td>0</td>\n",
       "    </tr>\n",
       "  </tbody>\n",
       "</table>\n",
       "</div>"
      ],
      "text/plain": [
       "            id         workName  overallRating  \\\n",
       "3361     62646       Elfen_Lied              0   \n",
       "97599   124865  Hametsu_no_Mars             11   \n",
       "100103  124809             Nami              0   \n",
       "\n",
       "                                                   review  sentiment  \n",
       "3361    loved elfen lied thriller anime myriad emotion...          0  \n",
       "97599   contemporanean masterpiece look sound everythi...          1  \n",
       "100103  stop motion animation certainly good example t...          0  "
      ]
     },
     "execution_count": 31,
     "metadata": {},
     "output_type": "execute_result"
    }
   ],
   "source": [
    "# View odd reviews\n",
    "odd_reviews = df.query('overallRating in [0, 11]')\n",
    "odd_reviews"
   ]
  },
  {
   "cell_type": "code",
   "execution_count": 35,
   "metadata": {},
   "outputs": [
    {
     "data": {
      "text/plain": [
       "'loved elfen lied thriller anime myriad emotion every turn without giving much away say end sad yet happy character obviously well thought lucy best personality would change helpful'"
      ]
     },
     "execution_count": 35,
     "metadata": {},
     "output_type": "execute_result"
    }
   ],
   "source": [
    "odd_reviews['review'].iloc[0]"
   ]
  },
  {
   "cell_type": "code",
   "execution_count": 37,
   "metadata": {},
   "outputs": [
    {
     "data": {
      "text/plain": [
       "'contemporanean masterpiece look sound everything perfect animation exposed museum people world perfection anime story interation character well constructed character ever seen well constructed world ever seen entertaiment medium whole journey seen well done minute even perfection int story kid violence cruelty seen show unbelievable feel character journey best ending ever art beatiful animation ever see like real world express feeling animator fully joy soundtrack still hear overwhelming pressure heard action scene volume bursting calm scene give u tension enjoyment enjoy show perfect overall simply score'"
      ]
     },
     "execution_count": 37,
     "metadata": {},
     "output_type": "execute_result"
    }
   ],
   "source": [
    "odd_reviews['review'].iloc[1]"
   ]
  },
  {
   "cell_type": "code",
   "execution_count": 38,
   "metadata": {},
   "outputs": [
    {
     "data": {
      "text/plain": [
       "'stop motion animation certainly good example traditional animation saved either good reason anime critically acclaimed story anime involves large number fish crawling young woman vagina think really count story first place happens could call art hyper realistic would giving far much credit stop motion us real life prop animated still image animation look quite choppy since take enough picture truly look fluid girl least move fairly realistically first making look like filmed fish cgi go becomes obvious done image girl good acting stop motion sure took lot time certainly make sound extremely disturbing slimy pleasant amplified awful anime animation bad enough sound effect made fish sound lubricated make even worse much else sound gross fishy character entire anime girl sits take fish like man speak seems tardis hidden inside vagina since fish keep going never fill seem much personality attribute physical one much anything talk really call fish character either although seem kind homing ability could heat seeker vagina hottest part body could going reason rather trying rape could also sent someone rape speculation though since anime seem try explain creator may thought fish could even woman vagina fish found painful anime watch nothing fun even minute length felt long really doubt meant enjoyable though even project someone knew probably tell liked intention like two girl one cup muslim beheading meant watched enjoyment made hate clearly intended disgusting possible aspect succeeded consider good thing merely personally would recommend anime repetitive disgusting painfully awful even gross video stick single idea keep going get initial gross factor boring wait something even worse happen never fish keep coming keep going place nothing redeemable anime would generous score'"
      ]
     },
     "execution_count": 38,
     "metadata": {},
     "output_type": "execute_result"
    }
   ],
   "source": [
    "odd_reviews['review'].iloc[2]"
   ]
  },
  {
   "cell_type": "markdown",
   "metadata": {},
   "source": [
    "Interesting"
   ]
  },
  {
   "cell_type": "code",
   "execution_count": 43,
   "metadata": {},
   "outputs": [
    {
     "data": {
      "text/plain": [
       "1    0.808982\n",
       "0    0.191018\n",
       "Name: sentiment, dtype: float64"
      ]
     },
     "execution_count": 43,
     "metadata": {},
     "output_type": "execute_result"
    },
    {
     "data": {
      "image/png": "[encoded data removed]",
      "text/plain": [
       "<Figure size 432x288 with 1 Axes>"
      ]
     },
     "metadata": {},
     "output_type": "display_data"
    }
   ],
   "source": [
    "g = sns.countplot(df['sentiment'])\n",
    "df['sentiment'].value_counts(normalize=True)"
   ]
  },
  {
   "cell_type": "markdown",
   "metadata": {},
   "source": [
    "Highly imbalanced distribution of classes with 80% greater than 5 and 20% less than 5. Can deal with this either specifying higher weights on minority class or possibly by undersampling/oversampling the classes."
   ]
  }
 ],
 "metadata": {
  "file_extension": ".py",
  "kernelspec": {
   "display_name": "Python [conda env:csi-4106-project]",
   "language": "python",
   "name": "conda-env-csi-4106-project-py"
  },
  "language_info": {
   "codemirror_mode": {
    "name": "ipython",
    "version": 3
   },
   "file_extension": ".py",
   "mimetype": "text/x-python",
   "name": "python",
   "nbconvert_exporter": "python",
   "pygments_lexer": "ipython3",
   "version": "3.7.5"
  },
  "mimetype": "text/x-python",
  "name": "python",
  "npconvert_exporter": "python",
  "pygments_lexer": "ipython3",
  "version": 3
 },
 "nbformat": 4,
 "nbformat_minor": 4
}
