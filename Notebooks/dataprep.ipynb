{
 "nbformat": 4,
 "nbformat_minor": 2,
 "metadata": {
  "language_info": {
   "name": "python",
   "codemirror_mode": {
    "name": "ipython",
    "version": 3
   },
   "version": "3.6.4"
  },
  "orig_nbformat": 2,
  "file_extension": ".py",
  "mimetype": "text/x-python",
  "name": "python",
  "npconvert_exporter": "python",
  "pygments_lexer": "ipython3",
  "version": 3
 },
 "cells": [
  {
   "cell_type": "code",
   "execution_count": 1,
   "metadata": {},
   "outputs": [
    {
     "name": "stdout",
     "output_type": "stream",
     "text": "showing info https://raw.githubusercontent.com/nltk/nltk_data/gh-pages/index.xml\n"
    },
    {
     "data": {
      "text/plain": "True"
     },
     "execution_count": 1,
     "metadata": {},
     "output_type": "execute_result"
    }
   ],
   "source": [
    "import nltk\n",
    "nltk.download()"
   ]
  },
  {
   "cell_type": "code",
   "execution_count": 2,
   "metadata": {},
   "outputs": [],
   "source": [
    "import pandas as pd\n",
    "import numpy as np\n",
    "import os\n",
    "\n",
    "pd.set_option('display.max_colwidth', 50)"
   ]
  },
  {
   "cell_type": "code",
   "execution_count": 3,
   "metadata": {},
   "outputs": [
    {
     "name": "stderr",
     "output_type": "stream",
     "text": "C:\\Users\\Armand Syahtama\\envs\\csi4106\\lib\\site-packages\\IPython\\core\\interactiveshell.py:3058: DtypeWarning: Columns (5) have mixed types. Specify dtype option on import or set low_memory=False.\n  interactivity=interactivity, compiler=compiler, result=result)\n"
    },
    {
     "data": {
      "text/html": "<div>\n<style scoped>\n    .dataframe tbody tr th:only-of-type {\n        vertical-align: middle;\n    }\n\n    .dataframe tbody tr th {\n        vertical-align: top;\n    }\n\n    .dataframe thead th {\n        text-align: right;\n    }\n</style>\n<table border=\"1\" class=\"dataframe\">\n  <thead>\n    <tr style=\"text-align: right;\">\n      <th></th>\n      <th>id</th>\n      <th>workName</th>\n      <th>overallRating</th>\n      <th>review</th>\n    </tr>\n  </thead>\n  <tbody>\n    <tr>\n      <th>0</th>\n      <td>8121</td>\n      <td>Cowboy_Bebop</td>\n      <td>10</td>\n      <td>Cowboy Bebop is an episodic series. By episodi...</td>\n    </tr>\n    <tr>\n      <th>1</th>\n      <td>63480</td>\n      <td>Utawarerumono</td>\n      <td>8</td>\n      <td>Utawarerumono manages to be one of those harem...</td>\n    </tr>\n    <tr>\n      <th>2</th>\n      <td>8452</td>\n      <td>Hajime_no_Ippo</td>\n      <td>10</td>\n      <td>First, let me say that I\\\\'m not a fan of boxi...</td>\n    </tr>\n    <tr>\n      <th>3</th>\n      <td>66544</td>\n      <td>Gensoumaden_Saiyuuki</td>\n      <td>9</td>\n      <td>Saiyuki is one of those animes that just grabs...</td>\n    </tr>\n    <tr>\n      <th>4</th>\n      <td>55936</td>\n      <td>Ranma_½</td>\n      <td>7</td>\n      <td>A comedy/romance based on the manga by Rumiko ...</td>\n    </tr>\n    <tr>\n      <th>5</th>\n      <td>22039</td>\n      <td>Kino_no_Tabi__The_Beautiful_World</td>\n      <td>9</td>\n      <td>What do you say about an anime that is just ab...</td>\n    </tr>\n    <tr>\n      <th>6</th>\n      <td>68626</td>\n      <td>Kareshi_Kanojo_no_Jijou</td>\n      <td>8</td>\n      <td>Kare Kano was a romance anime that could have ...</td>\n    </tr>\n    <tr>\n      <th>7</th>\n      <td>18797</td>\n      <td>Hunter_x_Hunter</td>\n      <td>10</td>\n      <td>Overall:  My very best anime and i haven't act...</td>\n    </tr>\n    <tr>\n      <th>8</th>\n      <td>43899</td>\n      <td>Golden_Boy</td>\n      <td>10</td>\n      <td>Overall:Honestly I really don't care about oth...</td>\n    </tr>\n    <tr>\n      <th>9</th>\n      <td>18796</td>\n      <td>Hunter_x_Hunter</td>\n      <td>10</td>\n      <td>Hunters… What do you think about when you hear...</td>\n    </tr>\n  </tbody>\n</table>\n</div>",
      "text/plain": "      id                           workName  overallRating  \\\n0   8121                       Cowboy_Bebop             10   \n1  63480                      Utawarerumono              8   \n2   8452                     Hajime_no_Ippo             10   \n3  66544               Gensoumaden_Saiyuuki              9   \n4  55936                            Ranma_½              7   \n5  22039  Kino_no_Tabi__The_Beautiful_World              9   \n6  68626            Kareshi_Kanojo_no_Jijou              8   \n7  18797                    Hunter_x_Hunter             10   \n8  43899                         Golden_Boy             10   \n9  18796                    Hunter_x_Hunter             10   \n\n                                              review  \n0  Cowboy Bebop is an episodic series. By episodi...  \n1  Utawarerumono manages to be one of those harem...  \n2  First, let me say that I\\\\'m not a fan of boxi...  \n3  Saiyuki is one of those animes that just grabs...  \n4  A comedy/romance based on the manga by Rumiko ...  \n5  What do you say about an anime that is just ab...  \n6  Kare Kano was a romance anime that could have ...  \n7  Overall:  My very best anime and i haven't act...  \n8  Overall:Honestly I really don't care about oth...  \n9  Hunters… What do you think about when you hear...  "
     },
     "execution_count": 3,
     "metadata": {},
     "output_type": "execute_result"
    }
   ],
   "source": [
    "colnames = ['id', 'workName', 'overallRating', 'review']\n",
    "df = pd.read_csv(os.path.abspath('Datasets\\\\animeReviewsOrderByTime.csv'), usecols=np.arange(15))\n",
    "df = df[colnames]\n",
    "df = df.dropna()\n",
    "df = df.drop(df[df['review'] == ''].index)\n",
    "df.head(10)"
   ]
  },
  {
   "cell_type": "code",
   "execution_count": 4,
   "metadata": {},
   "outputs": [],
   "source": [
    "import string\n",
    "import wordninja\n",
    "from nltk import word_tokenize\n",
    "from nltk.corpus import stopwords\n",
    "from nltk.stem import WordNetLemmatizer\n",
    "from nltk.tokenize.treebank import TreebankWordDetokenizer\n",
    "\n",
    "english_stopwords = stopwords.words('english')\n",
    "lemmatizer = WordNetLemmatizer()\n",
    "detokenizer = TreebankWordDetokenizer()\n",
    "punctuation_to_remove = string.punctuation\n",
    "punctuation_to_remove = punctuation_to_remove.replace('.', '')\n",
    "\n",
    "def preprocess_text(text: str, split_word: bool = True):\n",
    "    text = text.lower() # lower the case\n",
    "    text = text.strip()\n",
    "    text = \"\".join([c if c not in punctuation_to_remove else ' ' for c in text]) # take out punctuation\n",
    "    tokens = word_tokenize(text) # tokenize text\n",
    "    tokens = [w for w in tokens if w not in english_stopwords] # remove stopwords\n",
    "    tokens = [lemmatizer.lemmatize(w) for w in tokens] # lemmatize all the words\n",
    "    tokens = [w for w in tokens if w.isalpha()]\n",
    "    return detokenizer.detokenize(tokens)"
   ]
  },
  {
   "cell_type": "code",
   "execution_count": 5,
   "metadata": {},
   "outputs": [
    {
     "data": {
      "text/plain": "0    cowboy bebop episodic series episodic mean one...\n1    utawarerumono manages one harem anime anyone p...\n2    first let say fan boxing fact pretty much hate...\n3    saiyuki one anime grab first episode let go ev...\n4    comedy romance based manga rumiko takahashi ra...\n5    say anime traveler journeying different countr...\n6    kare kano romance anime could become incredibl...\n7    overall best anime actually seen anything else...\n8    overall honestly really care others opinion an...\n9    think hear anime people killing poor cute anim...\nName: review, dtype: object"
     },
     "execution_count": 5,
     "metadata": {},
     "output_type": "execute_result"
    }
   ],
   "source": [
    "df['review'] = df['review'].apply(lambda x: preprocess_text(x))\n",
    "df['review'].head(10)"
   ]
  },
  {
   "cell_type": "code",
   "execution_count": 6,
   "metadata": {},
   "outputs": [
    {
     "data": {
      "text/html": "<div>\n<style scoped>\n    .dataframe tbody tr th:only-of-type {\n        vertical-align: middle;\n    }\n\n    .dataframe tbody tr th {\n        vertical-align: top;\n    }\n\n    .dataframe thead th {\n        text-align: right;\n    }\n</style>\n<table border=\"1\" class=\"dataframe\">\n  <thead>\n    <tr style=\"text-align: right;\">\n      <th></th>\n      <th>id</th>\n      <th>workName</th>\n      <th>overallRating</th>\n      <th>review</th>\n      <th>sentiment</th>\n    </tr>\n  </thead>\n  <tbody>\n    <tr>\n      <th>0</th>\n      <td>8121</td>\n      <td>Cowboy_Bebop</td>\n      <td>10</td>\n      <td>cowboy bebop episodic series episodic mean one...</td>\n      <td>1</td>\n    </tr>\n    <tr>\n      <th>1</th>\n      <td>63480</td>\n      <td>Utawarerumono</td>\n      <td>8</td>\n      <td>utawarerumono manages one harem anime anyone p...</td>\n      <td>1</td>\n    </tr>\n    <tr>\n      <th>2</th>\n      <td>8452</td>\n      <td>Hajime_no_Ippo</td>\n      <td>10</td>\n      <td>first let say fan boxing fact pretty much hate...</td>\n      <td>1</td>\n    </tr>\n    <tr>\n      <th>3</th>\n      <td>66544</td>\n      <td>Gensoumaden_Saiyuuki</td>\n      <td>9</td>\n      <td>saiyuki one anime grab first episode let go ev...</td>\n      <td>1</td>\n    </tr>\n    <tr>\n      <th>4</th>\n      <td>55936</td>\n      <td>Ranma_½</td>\n      <td>7</td>\n      <td>comedy romance based manga rumiko takahashi ra...</td>\n      <td>1</td>\n    </tr>\n    <tr>\n      <th>5</th>\n      <td>22039</td>\n      <td>Kino_no_Tabi__The_Beautiful_World</td>\n      <td>9</td>\n      <td>say anime traveler journeying different countr...</td>\n      <td>1</td>\n    </tr>\n    <tr>\n      <th>6</th>\n      <td>68626</td>\n      <td>Kareshi_Kanojo_no_Jijou</td>\n      <td>8</td>\n      <td>kare kano romance anime could become incredibl...</td>\n      <td>1</td>\n    </tr>\n    <tr>\n      <th>7</th>\n      <td>18797</td>\n      <td>Hunter_x_Hunter</td>\n      <td>10</td>\n      <td>overall best anime actually seen anything else...</td>\n      <td>1</td>\n    </tr>\n    <tr>\n      <th>8</th>\n      <td>43899</td>\n      <td>Golden_Boy</td>\n      <td>10</td>\n      <td>overall honestly really care others opinion an...</td>\n      <td>1</td>\n    </tr>\n    <tr>\n      <th>9</th>\n      <td>18796</td>\n      <td>Hunter_x_Hunter</td>\n      <td>10</td>\n      <td>think hear anime people killing poor cute anim...</td>\n      <td>1</td>\n    </tr>\n  </tbody>\n</table>\n</div>",
      "text/plain": "      id                           workName  overallRating  \\\n0   8121                       Cowboy_Bebop             10   \n1  63480                      Utawarerumono              8   \n2   8452                     Hajime_no_Ippo             10   \n3  66544               Gensoumaden_Saiyuuki              9   \n4  55936                            Ranma_½              7   \n5  22039  Kino_no_Tabi__The_Beautiful_World              9   \n6  68626            Kareshi_Kanojo_no_Jijou              8   \n7  18797                    Hunter_x_Hunter             10   \n8  43899                         Golden_Boy             10   \n9  18796                    Hunter_x_Hunter             10   \n\n                                              review  sentiment  \n0  cowboy bebop episodic series episodic mean one...          1  \n1  utawarerumono manages one harem anime anyone p...          1  \n2  first let say fan boxing fact pretty much hate...          1  \n3  saiyuki one anime grab first episode let go ev...          1  \n4  comedy romance based manga rumiko takahashi ra...          1  \n5  say anime traveler journeying different countr...          1  \n6  kare kano romance anime could become incredibl...          1  \n7  overall best anime actually seen anything else...          1  \n8  overall honestly really care others opinion an...          1  \n9  think hear anime people killing poor cute anim...          1  "
     },
     "execution_count": 6,
     "metadata": {},
     "output_type": "execute_result"
    }
   ],
   "source": [
    "# determines whether score is positive (1) or not (0)\n",
    "def determine_sentiment(score: int):\n",
    "    return 1 if score > 5 else 0\n",
    "\n",
    "df['sentiment'] = df['overallRating'].apply(lambda x: determine_sentiment(x))\n",
    "df.head(10)"
   ]
  },
  {
   "cell_type": "code",
   "execution_count": 7,
   "metadata": {},
   "outputs": [
    {
     "data": {
      "text/plain": "1    109376\n0     25823\nName: sentiment, dtype: int64"
     },
     "execution_count": 7,
     "metadata": {},
     "output_type": "execute_result"
    }
   ],
   "source": [
    "df['sentiment'].value_counts()"
   ]
  },
  {
   "cell_type": "code",
   "execution_count": 8,
   "metadata": {},
   "outputs": [],
   "source": [
    "df['review'].replace('', np.nan, inplace=True)\n",
    "df.dropna(subset=['review'], inplace=True)\n",
    "df.to_csv('Datasets\\\\processedAnimeReviews.csv', encoding='utf-8', index=False)"
   ]
  }
 ]
}