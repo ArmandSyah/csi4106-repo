{
 "cells": [
  {
   "cell_type": "markdown",
   "metadata": {},
   "source": [
    "About to create a Word2Vec model using the review text"
   ]
  },
  {
   "cell_type": "code",
   "execution_count": 1,
   "metadata": {},
   "outputs": [],
   "source": [
    "import os\n",
    "import pandas as pd\n",
    "import math\n",
    "from nltk import word_tokenize\n",
    "from gensim.models import Word2Vec"
   ]
  },
  {
   "cell_type": "code",
   "execution_count": 3,
   "metadata": {},
   "outputs": [],
   "source": [
    "df = pd.read_csv('../Datasets/processedAnimeReviews.csv')\n",
    "reviews = df['review'].tolist()\n",
    "tokenized_review_list = []\n",
    "for review in reviews:\n",
    "    if type(review) == float:\n",
    "        continue\n",
    "    tokenized_review = word_tokenize(review)\n",
    "    tokenized_review_list.append(tokenized_review)"
   ]
  },
  {
   "cell_type": "code",
   "execution_count": 4,
   "metadata": {},
   "outputs": [],
   "source": [
    "model = Word2Vec(tokenized_review_list, size=100, sg=0, min_count=1, iter=5)"
   ]
  },
  {
   "cell_type": "code",
   "execution_count": 5,
   "metadata": {},
   "outputs": [
    {
     "data": {
      "text/plain": [
       "[('fight', 0.6651305556297302),\n",
       " ('fighting', 0.6336201429367065),\n",
       " ('battle', 0.6133617758750916),\n",
       " ('atcion', 0.5946556925773621),\n",
       " ('digivoltuion', 0.5717847347259521),\n",
       " ('combat', 0.5567737817764282),\n",
       " ('satisfactioni', 0.543971598148346),\n",
       " ('overstressing', 0.5412657856941223),\n",
       " ('drama', 0.5309126973152161),\n",
       " ('intense', 0.5217537879943848)]"
      ]
     },
     "execution_count": 5,
     "metadata": {},
     "output_type": "execute_result"
    }
   ],
   "source": [
    "model.wv.most_similar(positive=['action'], topn=10)"
   ]
  },
  {
   "cell_type": "code",
   "execution_count": 7,
   "metadata": {},
   "outputs": [
    {
     "name": "stdout",
     "output_type": "stream",
     "text": [
      "Word2Vec(vocab=170072, size=100, alpha=0.025)\n"
     ]
    }
   ],
   "source": [
    "print(model)\n",
    "model.save('../Models/w2vmodel.bin')"
   ]
  }
 ],
 "metadata": {
  "file_extension": ".py",
  "kernelspec": {
   "display_name": "Python [conda env:csi-4106-project]",
   "language": "python",
   "name": "conda-env-csi-4106-project-py"
  },
  "language_info": {
   "codemirror_mode": {
    "name": "ipython",
    "version": 3
   },
   "file_extension": ".py",
   "mimetype": "text/x-python",
   "name": "python",
   "nbconvert_exporter": "python",
   "pygments_lexer": "ipython3",
   "version": "3.7.5"
  },
  "mimetype": "text/x-python",
  "name": "python",
  "npconvert_exporter": "python",
  "pygments_lexer": "ipython3",
  "version": 3
 },
 "nbformat": 4,
 "nbformat_minor": 4
}
