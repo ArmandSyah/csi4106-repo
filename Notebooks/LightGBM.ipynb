{
 "cells": [
  {
   "cell_type": "code",
   "execution_count": 1,
   "metadata": {},
   "outputs": [],
   "source": [
    "# Data manipulation\n",
    "import numpy as np\n",
    "import pandas as pd\n",
    "np.random.seed(2)\n",
    "pd.options.display.max_columns = None\n",
    "\n",
    "# Plotting\n",
    "import seaborn as sns\n",
    "import matplotlib.pyplot as plt\n",
    "sns.set()\n",
    "%matplotlib inline\n",
    "\n",
    "# Modelling \n",
    "import lightgbm as lgb\n",
    "from scipy.stats import expon, randint, uniform\n",
    "from sklearn.dummy import DummyClassifier\n",
    "from sklearn.model_selection import cross_validate, GridSearchCV, RandomizedSearchCV, train_test_split\n",
    "\n",
    "# NLP\n",
    "from gensim.models import Word2Vec\n",
    "from nltk import word_tokenize\n",
    "\n",
    "# Other\n",
    "import utility as util\n",
    "import importlib \n",
    "importlib.reload(util)\n",
    "import joblib\n",
    "\n",
    "# Display all outputs\n",
    "from IPython.core.interactiveshell import InteractiveShell\n",
    "InteractiveShell.ast_node_interactivity = \"all\""
   ]
  },
  {
   "cell_type": "markdown",
   "metadata": {},
   "source": [
    "## Load preprocessed data"
   ]
  },
  {
   "cell_type": "code",
   "execution_count": 2,
   "metadata": {},
   "outputs": [],
   "source": [
    "reviews_preprocessed = pd.read_csv('../Datasets/processedAnimeReviews.csv', index_col = 'id')"
   ]
  },
  {
   "cell_type": "code",
   "execution_count": 3,
   "metadata": {},
   "outputs": [
    {
     "data": {
      "text/html": [
       "<div>\n",
       "<style scoped>\n",
       "    .dataframe tbody tr th:only-of-type {\n",
       "        vertical-align: middle;\n",
       "    }\n",
       "\n",
       "    .dataframe tbody tr th {\n",
       "        vertical-align: top;\n",
       "    }\n",
       "\n",
       "    .dataframe thead th {\n",
       "        text-align: right;\n",
       "    }\n",
       "</style>\n",
       "<table border=\"1\" class=\"dataframe\">\n",
       "  <thead>\n",
       "    <tr style=\"text-align: right;\">\n",
       "      <th></th>\n",
       "      <th>workName</th>\n",
       "      <th>overallRating</th>\n",
       "      <th>review</th>\n",
       "      <th>sentiment</th>\n",
       "    </tr>\n",
       "    <tr>\n",
       "      <th>id</th>\n",
       "      <th></th>\n",
       "      <th></th>\n",
       "      <th></th>\n",
       "      <th></th>\n",
       "    </tr>\n",
       "  </thead>\n",
       "  <tbody>\n",
       "    <tr>\n",
       "      <th>8121</th>\n",
       "      <td>Cowboy_Bebop</td>\n",
       "      <td>10</td>\n",
       "      <td>cowboy bebop episodic series episodic mean one...</td>\n",
       "      <td>1</td>\n",
       "    </tr>\n",
       "    <tr>\n",
       "      <th>63480</th>\n",
       "      <td>Utawarerumono</td>\n",
       "      <td>8</td>\n",
       "      <td>utawarerumono manages one harem anime anyone p...</td>\n",
       "      <td>1</td>\n",
       "    </tr>\n",
       "    <tr>\n",
       "      <th>8452</th>\n",
       "      <td>Hajime_no_Ippo</td>\n",
       "      <td>10</td>\n",
       "      <td>first let say fan boxing fact pretty much hate...</td>\n",
       "      <td>1</td>\n",
       "    </tr>\n",
       "    <tr>\n",
       "      <th>66544</th>\n",
       "      <td>Gensoumaden_Saiyuuki</td>\n",
       "      <td>9</td>\n",
       "      <td>saiyuki one anime grab first episode let go ev...</td>\n",
       "      <td>1</td>\n",
       "    </tr>\n",
       "    <tr>\n",
       "      <th>55936</th>\n",
       "      <td>Ranma_½</td>\n",
       "      <td>7</td>\n",
       "      <td>comedy romance based manga rumiko takahashi ra...</td>\n",
       "      <td>1</td>\n",
       "    </tr>\n",
       "    <tr>\n",
       "      <th>22039</th>\n",
       "      <td>Kino_no_Tabi__The_Beautiful_World</td>\n",
       "      <td>9</td>\n",
       "      <td>say anime traveler journeying different countr...</td>\n",
       "      <td>1</td>\n",
       "    </tr>\n",
       "    <tr>\n",
       "      <th>68626</th>\n",
       "      <td>Kareshi_Kanojo_no_Jijou</td>\n",
       "      <td>8</td>\n",
       "      <td>kare kano romance anime could become incredibl...</td>\n",
       "      <td>1</td>\n",
       "    </tr>\n",
       "    <tr>\n",
       "      <th>18797</th>\n",
       "      <td>Hunter_x_Hunter</td>\n",
       "      <td>10</td>\n",
       "      <td>overall best anime actually seen anything else...</td>\n",
       "      <td>1</td>\n",
       "    </tr>\n",
       "    <tr>\n",
       "      <th>43899</th>\n",
       "      <td>Golden_Boy</td>\n",
       "      <td>10</td>\n",
       "      <td>overall honestly really care others opinion an...</td>\n",
       "      <td>1</td>\n",
       "    </tr>\n",
       "    <tr>\n",
       "      <th>18796</th>\n",
       "      <td>Hunter_x_Hunter</td>\n",
       "      <td>10</td>\n",
       "      <td>think hear anime people killing poor cute anim...</td>\n",
       "      <td>1</td>\n",
       "    </tr>\n",
       "  </tbody>\n",
       "</table>\n",
       "</div>"
      ],
      "text/plain": [
       "                                workName  overallRating  \\\n",
       "id                                                        \n",
       "8121                        Cowboy_Bebop             10   \n",
       "63480                      Utawarerumono              8   \n",
       "8452                      Hajime_no_Ippo             10   \n",
       "66544               Gensoumaden_Saiyuuki              9   \n",
       "55936                            Ranma_½              7   \n",
       "22039  Kino_no_Tabi__The_Beautiful_World              9   \n",
       "68626            Kareshi_Kanojo_no_Jijou              8   \n",
       "18797                    Hunter_x_Hunter             10   \n",
       "43899                         Golden_Boy             10   \n",
       "18796                    Hunter_x_Hunter             10   \n",
       "\n",
       "                                                  review  sentiment  \n",
       "id                                                                   \n",
       "8121   cowboy bebop episodic series episodic mean one...          1  \n",
       "63480  utawarerumono manages one harem anime anyone p...          1  \n",
       "8452   first let say fan boxing fact pretty much hate...          1  \n",
       "66544  saiyuki one anime grab first episode let go ev...          1  \n",
       "55936  comedy romance based manga rumiko takahashi ra...          1  \n",
       "22039  say anime traveler journeying different countr...          1  \n",
       "68626  kare kano romance anime could become incredibl...          1  \n",
       "18797  overall best anime actually seen anything else...          1  \n",
       "43899  overall honestly really care others opinion an...          1  \n",
       "18796  think hear anime people killing poor cute anim...          1  "
      ]
     },
     "execution_count": 3,
     "metadata": {},
     "output_type": "execute_result"
    }
   ],
   "source": [
    "reviews_preprocessed.head(10)"
   ]
  },
  {
   "cell_type": "markdown",
   "metadata": {},
   "source": [
    "## Apply Word2Vec"
   ]
  },
  {
   "cell_type": "code",
   "execution_count": 6,
   "metadata": {},
   "outputs": [],
   "source": [
    "# load model\n",
    "w2v_model = Word2Vec.load('../Models/w2vmodel.bin')"
   ]
  },
  {
   "cell_type": "code",
   "execution_count": 7,
   "metadata": {},
   "outputs": [],
   "source": [
    "# Get mean feature vector of all words in a sentence\n",
    "def meanFeatureVec(sentence, word_vectors):\n",
    "    word_vecs = [word_vectors[word] for word in word_tokenize(sentence)]\n",
    "    mean_vec = np.asarray(word_vecs).mean(axis=0)\n",
    "    return mean_vec\n",
    "\n",
    "# Takes a dataframe of the reviews and returns a new dataframe of the word embeddings per review\n",
    "def reviewToVectors(sentences, word_vectors):\n",
    "    sent_vecs = [meanFeatureVec(sentence, word_vectors) for sentence in sentences]\n",
    "    df = pd.DataFrame(sent_vecs, index=sentences.index)\n",
    "    return df"
   ]
  },
  {
   "cell_type": "code",
   "execution_count": 8,
   "metadata": {},
   "outputs": [],
   "source": [
    "# # Convert reviews to word embeddings\n",
    "# X_vectors = reviewToVectors(reviews_preprocessed['review'], w2v_model.wv)\n",
    "\n",
    "# Load presaved results\n",
    "X_vectors = pd.read_csv('../Datasets/reviewsWordVectors.csv', index_col='id')\n",
    "\n",
    "# # Save reviews\n",
    "# X_vectors.to_csv('../Datasets/reviewsWordVectors.csv')"
   ]
  },
  {
   "cell_type": "code",
   "execution_count": 9,
   "metadata": {},
   "outputs": [],
   "source": [
    "# Split into train and test\n",
    "y = reviews_preprocessed[['sentiment', 'overallRating']]\n",
    "\n",
    "X_train, X_test, y_train, y_test = train_test_split(X_vectors, y, test_size=0.1, random_state=2)"
   ]
  },
  {
   "cell_type": "markdown",
   "metadata": {},
   "source": [
    "## Dummy model"
   ]
  },
  {
   "cell_type": "code",
   "execution_count": 10,
   "metadata": {},
   "outputs": [],
   "source": [
    "metrics = ['accuracy', 'recall', 'precision', 'f1', 'roc_auc']"
   ]
  },
  {
   "cell_type": "code",
   "execution_count": 10,
   "metadata": {},
   "outputs": [
    {
     "name": "stderr",
     "output_type": "stream",
     "text": [
      "[Parallel(n_jobs=-1)]: Using backend LokyBackend with 4 concurrent workers.\n"
     ]
    },
    {
     "name": "stdout",
     "output_type": "stream",
     "text": [
      "Training scores\n",
      "accuracy: 0.6903 (0.0010)\n",
      "recall: 0.8088 (0.0004)\n",
      "precision: 0.8088 (0.0007)\n",
      "f1: 0.8082 (0.0005)\n",
      "roc_auc: 0.5008 (0.0014)\n",
      "\n",
      "Validation Scores\n",
      "accuracy: 0.6915 (0.0009)\n",
      "recall: 0.8091 (0.0019)\n",
      "precision: 0.8093 (0.0015)\n",
      "f1: 0.8094 (0.0017)\n",
      "roc_auc: 0.4990 (0.0032)\n"
     ]
    },
    {
     "name": "stderr",
     "output_type": "stream",
     "text": [
      "[Parallel(n_jobs=-1)]: Done   5 out of   5 | elapsed:    2.9s finished\n"
     ]
    }
   ],
   "source": [
    "clf_dummy = DummyClassifier()\n",
    "util.cross_validate_scores(clf_dummy, X_train, y_train['sentiment'], cv=5, metrics=metrics)"
   ]
  },
  {
   "cell_type": "markdown",
   "metadata": {},
   "source": [
    "Above is the worst baseline/worst accuracy we will be using. The above strategy randomly predicts a class based on the probability distribution of the observed samples."
   ]
  },
  {
   "cell_type": "markdown",
   "metadata": {},
   "source": [
    "## LightGBM Model"
   ]
  },
  {
   "cell_type": "code",
   "execution_count": 59,
   "metadata": {},
   "outputs": [
    {
     "name": "stderr",
     "output_type": "stream",
     "text": [
      "[Parallel(n_jobs=-1)]: Using backend LokyBackend with 4 concurrent workers.\n"
     ]
    },
    {
     "name": "stdout",
     "output_type": "stream",
     "text": [
      "Training scores\n",
      "accuracy: 0.8699 (0.0006)\n",
      "recall: 0.9725 (0.0002)\n",
      "precision: 0.8795 (0.0004)\n",
      "f1: 0.9237 (0.0003)\n",
      "roc_auc: 0.9016 (0.0004)\n",
      "\n",
      "Validation Scores\n",
      "accuracy: 0.8528 (0.0016)\n",
      "recall: 0.9641 (0.0013)\n",
      "precision: 0.8684 (0.0010)\n",
      "f1: 0.9137 (0.0010)\n",
      "roc_auc: 0.8592 (0.0029)\n"
     ]
    },
    {
     "name": "stderr",
     "output_type": "stream",
     "text": [
      "[Parallel(n_jobs=-1)]: Done   5 out of   5 | elapsed:   38.6s finished\n"
     ]
    }
   ],
   "source": [
    "clf_lgb = lgb.LGBMClassifier(n_jobs=-1)\n",
    "\n",
    "util.cross_validate_scores(clf_lgb, X_train, y_train['sentiment'], cv=5, metrics=metrics)"
   ]
  },
  {
   "cell_type": "markdown",
   "metadata": {},
   "source": [
    "From the average fold validation scores it seems like the model is doing a pretty good job of not overfitting. As well it does much better than the baseline dummy model. We can perform some grid searching to try and gain lower bias ..."
   ]
  },
  {
   "cell_type": "markdown",
   "metadata": {},
   "source": [
    "### Randomized search"
   ]
  },
  {
   "cell_type": "markdown",
   "metadata": {},
   "source": [
    "Randomized search was chosen over the brute force grid search as grid searching would've taken too long and random search provides decent results in a much smaller amount of time"
   ]
  },
  {
   "cell_type": "code",
   "execution_count": 10,
   "metadata": {},
   "outputs": [],
   "source": [
    "# Start with frehs model\n",
    "clf_lgb = lgb.LGBMClassifier(n_jobs=-1)\n",
    "\n",
    "lgb_params_dists = {\n",
    "    'num_leaves': randint(1, 100),\n",
    "    'max_depth': [-1, 2, 4, 8],\n",
    "    'min_child_samples': randint(1, 30),\n",
    "    'min_child_weight': uniform(1e-4, 1e-1),\n",
    "    'n_estimators': randint(100, 2000),\n",
    "    'reg_alpha': uniform(1e-3, 1e2),\n",
    "    'reg_lambda': uniform(1e-3, 1e2),\n",
    "}\n",
    "\n",
    "lgb_random_search = RandomizedSearchCV(\n",
    "    estimator = clf_lgb, \n",
    "    param_distributions = lgb_params_dists, \n",
    "    n_iter = 100,\n",
    "    scoring = metrics,\n",
    "    refit = 'accuracy',\n",
    "    cv = 5,\n",
    "    iid = True,\n",
    "    n_jobs = -1,\n",
    "    return_train_score = True,\n",
    "    verbose = 1)"
   ]
  },
  {
   "cell_type": "code",
   "execution_count": null,
   "metadata": {},
   "outputs": [
    {
     "name": "stdout",
     "output_type": "stream",
     "text": [
      "Fitting 5 folds for each of 100 candidates, totalling 500 fits\n"
     ]
    },
    {
     "name": "stderr",
     "output_type": "stream",
     "text": [
      "[Parallel(n_jobs=-1)]: Using backend LokyBackend with 4 concurrent workers.\n",
      "[Parallel(n_jobs=-1)]: Done  42 tasks      | elapsed: 20.0min\n",
      "[Parallel(n_jobs=-1)]: Done 192 tasks      | elapsed: 82.2min\n",
      "exception calling callback for <Future at 0x20b5e3ed4c8 state=finished raised TerminatedWorkerError>\n",
      "Traceback (most recent call last):\n",
      "  File \"D:\\ProgramData\\Anaconda3\\envs\\csi-4106-project\\lib\\site-packages\\joblib\\externals\\loky\\_base.py\", line 625, in _invoke_callbacks\n",
      "    callback(self)\n",
      "  File \"D:\\ProgramData\\Anaconda3\\envs\\csi-4106-project\\lib\\site-packages\\joblib\\parallel.py\", line 340, in __call__\n",
      "    self.parallel.dispatch_next()\n",
      "  File \"D:\\ProgramData\\Anaconda3\\envs\\csi-4106-project\\lib\\site-packages\\joblib\\parallel.py\", line 768, in dispatch_next\n",
      "    if not self.dispatch_one_batch(self._original_iterator):\n",
      "  File \"D:\\ProgramData\\Anaconda3\\envs\\csi-4106-project\\lib\\site-packages\\joblib\\parallel.py\", line 834, in dispatch_one_batch\n",
      "    self._dispatch(tasks)\n",
      "  File \"D:\\ProgramData\\Anaconda3\\envs\\csi-4106-project\\lib\\site-packages\\joblib\\parallel.py\", line 753, in _dispatch\n",
      "    job = self._backend.apply_async(batch, callback=cb)\n",
      "  File \"D:\\ProgramData\\Anaconda3\\envs\\csi-4106-project\\lib\\site-packages\\joblib\\_parallel_backends.py\", line 543, in apply_async\n",
      "    future = self._workers.submit(SafeFunction(func))\n",
      "  File \"D:\\ProgramData\\Anaconda3\\envs\\csi-4106-project\\lib\\site-packages\\joblib\\externals\\loky\\reusable_executor.py\", line 160, in submit\n",
      "    fn, *args, **kwargs)\n",
      "  File \"D:\\ProgramData\\Anaconda3\\envs\\csi-4106-project\\lib\\site-packages\\joblib\\externals\\loky\\process_executor.py\", line 1027, in submit\n",
      "    raise self._flags.broken\n",
      "joblib.externals.loky.process_executor.TerminatedWorkerError: A worker process managed by the executor was unexpectedly terminated. This could be caused by a segmentation fault while calling the function or by an excessive memory usage causing the Operating System to kill the worker.\n"
     ]
    }
   ],
   "source": [
    "# Fit grid search\n",
    "lgb_random_search.fit(X_train, y_train['sentiment'])\n",
    "\n",
    "# Save grid search results \n",
    "joblib.dump(lgb_random_search, '../Models/lgb_grid_search.pkl')"
   ]
  },
  {
   "cell_type": "code",
   "execution_count": null,
   "metadata": {},
   "outputs": [],
   "source": []
  }
 ],
 "metadata": {
  "kernelspec": {
   "display_name": "Python [conda env:csi-4106-project]",
   "language": "python",
   "name": "conda-env-csi-4106-project-py"
  },
  "language_info": {
   "codemirror_mode": {
    "name": "ipython",
    "version": 3
   },
   "file_extension": ".py",
   "mimetype": "text/x-python",
   "name": "python",
   "nbconvert_exporter": "python",
   "pygments_lexer": "ipython3",
   "version": "3.7.5"
  }
 },
 "nbformat": 4,
 "nbformat_minor": 4
}
