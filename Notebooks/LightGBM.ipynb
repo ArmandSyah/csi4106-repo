{
 "cells": [
  {
   "cell_type": "code",
   "execution_count": 1,
   "metadata": {},
   "outputs": [],
   "source": [
    "# Data manipulation\n",
    "import numpy as np\n",
    "import pandas as pd\n",
    "np.random.seed(2)\n",
    "pd.options.display.max_columns = None\n",
    "\n",
    "# Plotting\n",
    "import seaborn as sns\n",
    "import matplotlib.pyplot as plt\n",
    "sns.set()\n",
    "%matplotlib inline\n",
    "\n",
    "# Modelling \n",
    "import lightgbm as lgb\n",
    "from scipy.stats import expon, randint, uniform\n",
    "from sklearn.dummy import DummyClassifier\n",
    "from sklearn.model_selection import cross_val_score, cross_validate, GridSearchCV, RandomizedSearchCV, train_test_split\n",
    "\n",
    "# Bayesian optimization\n",
    "from bayes_opt import BayesianOptimization, JSONLogger\n",
    "from bayes_opt.event import Events\n",
    "from bayes_opt.util import load_logs\n",
    "\n",
    "# NLP\n",
    "from gensim.models import Word2Vec\n",
    "from nltk import word_tokenize\n",
    "\n",
    "# Other\n",
    "import utility as util\n",
    "import importlib \n",
    "importlib.reload(util)\n",
    "import joblib\n",
    "\n",
    "# Display all outputs\n",
    "from IPython.core.interactiveshell import InteractiveShell\n",
    "InteractiveShell.ast_node_interactivity = \"all\""
   ]
  },
  {
   "cell_type": "markdown",
   "metadata": {},
   "source": [
    "## Load preprocessed data"
   ]
  },
  {
   "cell_type": "code",
   "execution_count": 2,
   "metadata": {},
   "outputs": [],
   "source": [
    "reviews_preprocessed = pd.read_csv('../Datasets/processedAnimeReviews.csv', index_col = 'id')"
   ]
  },
  {
   "cell_type": "code",
   "execution_count": 3,
   "metadata": {},
   "outputs": [
    {
     "data": {
      "text/html": [
       "<div>\n",
       "<style scoped>\n",
       "    .dataframe tbody tr th:only-of-type {\n",
       "        vertical-align: middle;\n",
       "    }\n",
       "\n",
       "    .dataframe tbody tr th {\n",
       "        vertical-align: top;\n",
       "    }\n",
       "\n",
       "    .dataframe thead th {\n",
       "        text-align: right;\n",
       "    }\n",
       "</style>\n",
       "<table border=\"1\" class=\"dataframe\">\n",
       "  <thead>\n",
       "    <tr style=\"text-align: right;\">\n",
       "      <th></th>\n",
       "      <th>workName</th>\n",
       "      <th>overallRating</th>\n",
       "      <th>review</th>\n",
       "      <th>sentiment</th>\n",
       "    </tr>\n",
       "    <tr>\n",
       "      <th>id</th>\n",
       "      <th></th>\n",
       "      <th></th>\n",
       "      <th></th>\n",
       "      <th></th>\n",
       "    </tr>\n",
       "  </thead>\n",
       "  <tbody>\n",
       "    <tr>\n",
       "      <th>8121</th>\n",
       "      <td>Cowboy_Bebop</td>\n",
       "      <td>10</td>\n",
       "      <td>cowboy bebop episodic series episodic mean one...</td>\n",
       "      <td>1</td>\n",
       "    </tr>\n",
       "    <tr>\n",
       "      <th>63480</th>\n",
       "      <td>Utawarerumono</td>\n",
       "      <td>8</td>\n",
       "      <td>utawarerumono manages one harem anime anyone p...</td>\n",
       "      <td>1</td>\n",
       "    </tr>\n",
       "    <tr>\n",
       "      <th>8452</th>\n",
       "      <td>Hajime_no_Ippo</td>\n",
       "      <td>10</td>\n",
       "      <td>first let say fan boxing fact pretty much hate...</td>\n",
       "      <td>1</td>\n",
       "    </tr>\n",
       "    <tr>\n",
       "      <th>66544</th>\n",
       "      <td>Gensoumaden_Saiyuuki</td>\n",
       "      <td>9</td>\n",
       "      <td>saiyuki one anime grab first episode let go ev...</td>\n",
       "      <td>1</td>\n",
       "    </tr>\n",
       "    <tr>\n",
       "      <th>55936</th>\n",
       "      <td>Ranma_½</td>\n",
       "      <td>7</td>\n",
       "      <td>comedy romance based manga rumiko takahashi ra...</td>\n",
       "      <td>0</td>\n",
       "    </tr>\n",
       "    <tr>\n",
       "      <th>22039</th>\n",
       "      <td>Kino_no_Tabi__The_Beautiful_World</td>\n",
       "      <td>9</td>\n",
       "      <td>say anime traveler journeying different countr...</td>\n",
       "      <td>1</td>\n",
       "    </tr>\n",
       "    <tr>\n",
       "      <th>68626</th>\n",
       "      <td>Kareshi_Kanojo_no_Jijou</td>\n",
       "      <td>8</td>\n",
       "      <td>kare kano romance anime could become incredibl...</td>\n",
       "      <td>1</td>\n",
       "    </tr>\n",
       "    <tr>\n",
       "      <th>18797</th>\n",
       "      <td>Hunter_x_Hunter</td>\n",
       "      <td>10</td>\n",
       "      <td>overall best anime actually seen anything else...</td>\n",
       "      <td>1</td>\n",
       "    </tr>\n",
       "    <tr>\n",
       "      <th>43899</th>\n",
       "      <td>Golden_Boy</td>\n",
       "      <td>10</td>\n",
       "      <td>overall honestly really care others opinion an...</td>\n",
       "      <td>1</td>\n",
       "    </tr>\n",
       "    <tr>\n",
       "      <th>18796</th>\n",
       "      <td>Hunter_x_Hunter</td>\n",
       "      <td>10</td>\n",
       "      <td>think hear anime people killing poor cute anim...</td>\n",
       "      <td>1</td>\n",
       "    </tr>\n",
       "  </tbody>\n",
       "</table>\n",
       "</div>"
      ],
      "text/plain": [
       "                                workName  overallRating  \\\n",
       "id                                                        \n",
       "8121                        Cowboy_Bebop             10   \n",
       "63480                      Utawarerumono              8   \n",
       "8452                      Hajime_no_Ippo             10   \n",
       "66544               Gensoumaden_Saiyuuki              9   \n",
       "55936                            Ranma_½              7   \n",
       "22039  Kino_no_Tabi__The_Beautiful_World              9   \n",
       "68626            Kareshi_Kanojo_no_Jijou              8   \n",
       "18797                    Hunter_x_Hunter             10   \n",
       "43899                         Golden_Boy             10   \n",
       "18796                    Hunter_x_Hunter             10   \n",
       "\n",
       "                                                  review  sentiment  \n",
       "id                                                                   \n",
       "8121   cowboy bebop episodic series episodic mean one...          1  \n",
       "63480  utawarerumono manages one harem anime anyone p...          1  \n",
       "8452   first let say fan boxing fact pretty much hate...          1  \n",
       "66544  saiyuki one anime grab first episode let go ev...          1  \n",
       "55936  comedy romance based manga rumiko takahashi ra...          0  \n",
       "22039  say anime traveler journeying different countr...          1  \n",
       "68626  kare kano romance anime could become incredibl...          1  \n",
       "18797  overall best anime actually seen anything else...          1  \n",
       "43899  overall honestly really care others opinion an...          1  \n",
       "18796  think hear anime people killing poor cute anim...          1  "
      ]
     },
     "execution_count": 3,
     "metadata": {},
     "output_type": "execute_result"
    }
   ],
   "source": [
    "reviews_preprocessed.head(10)"
   ]
  },
  {
   "cell_type": "markdown",
   "metadata": {},
   "source": [
    "## Apply Word2Vec"
   ]
  },
  {
   "cell_type": "code",
   "execution_count": 4,
   "metadata": {},
   "outputs": [],
   "source": [
    "# load model\n",
    "w2v_model = Word2Vec.load('../Models/w2vmodel.bin')"
   ]
  },
  {
   "cell_type": "code",
   "execution_count": 5,
   "metadata": {},
   "outputs": [],
   "source": [
    "# Get mean feature vector of all words in a sentence\n",
    "def meanFeatureVec(sentence, word_vectors):\n",
    "    word_vecs = [word_vectors[word] for word in word_tokenize(sentence)]\n",
    "    mean_vec = np.asarray(word_vecs).mean(axis=0)\n",
    "    return mean_vec\n",
    "\n",
    "# Takes a dataframe of the reviews and returns a new dataframe of the word embeddings per review\n",
    "def reviewToVectors(sentences, word_vectors):\n",
    "    sent_vecs = [meanFeatureVec(sentence, word_vectors) for sentence in sentences]\n",
    "    df = pd.DataFrame(sent_vecs, index=sentences.index)\n",
    "    return df"
   ]
  },
  {
   "cell_type": "code",
   "execution_count": 6,
   "metadata": {},
   "outputs": [],
   "source": [
    "# # Convert reviews to word embeddings\n",
    "# X_vectors = reviewToVectors(reviews_preprocessed['review'], w2v_model.wv)\n",
    "\n",
    "# Load presaved results\n",
    "X_vectors = pd.read_csv('../Datasets/reviewsWordVectors.csv', index_col='id')\n",
    "\n",
    "# # Save reviews\n",
    "# X_vectors.to_csv('../Datasets/reviewsWordVectors.csv')"
   ]
  },
  {
   "cell_type": "code",
   "execution_count": 7,
   "metadata": {},
   "outputs": [],
   "source": [
    "# Split into train and test\n",
    "y = reviews_preprocessed[['sentiment', 'overallRating']]\n",
    "\n",
    "X_train, X_test, y_train, y_test = train_test_split(X_vectors, y, test_size=0.1, random_state=2)"
   ]
  },
  {
   "cell_type": "markdown",
   "metadata": {},
   "source": [
    "## Dummy model"
   ]
  },
  {
   "cell_type": "code",
   "execution_count": 8,
   "metadata": {},
   "outputs": [],
   "source": [
    "metrics = ['accuracy', 'recall', 'precision', 'f1', 'roc_auc']"
   ]
  },
  {
   "cell_type": "code",
   "execution_count": 9,
   "metadata": {},
   "outputs": [
    {
     "name": "stderr",
     "output_type": "stream",
     "text": [
      "[Parallel(n_jobs=-1)]: Using backend LokyBackend with 4 concurrent workers.\n"
     ]
    },
    {
     "name": "stdout",
     "output_type": "stream",
     "text": [
      "Training scores\n",
      "accuracy: 0.5104 (0.0015)\n",
      "recall: 0.5706 (0.0011)\n",
      "precision: 0.5719 (0.0010)\n",
      "f1: 0.5705 (0.0015)\n",
      "roc_auc: 0.5008 (0.0012)\n",
      "\n",
      "Validation Scores\n",
      "accuracy: 0.5086 (0.0038)\n",
      "recall: 0.5689 (0.0048)\n",
      "precision: 0.5709 (0.0031)\n",
      "f1: 0.5712 (0.0035)\n",
      "roc_auc: 0.4976 (0.0024)\n"
     ]
    },
    {
     "name": "stderr",
     "output_type": "stream",
     "text": [
      "[Parallel(n_jobs=-1)]: Done   5 out of   5 | elapsed:    2.5s finished\n"
     ]
    }
   ],
   "source": [
    "clf_dummy = DummyClassifier()\n",
    "scores = util.cross_validate_scores(clf_dummy, X_train, y_train['sentiment'], cv=5, metrics=metrics)"
   ]
  },
  {
   "cell_type": "markdown",
   "metadata": {},
   "source": [
    "Above is the worst baseline/worst accuracy we will be using. The above strategy randomly predicts a class based on the probability distribution of the observed samples."
   ]
  },
  {
   "cell_type": "markdown",
   "metadata": {},
   "source": [
    "## LightGBM Model"
   ]
  },
  {
   "cell_type": "code",
   "execution_count": 10,
   "metadata": {},
   "outputs": [
    {
     "name": "stderr",
     "output_type": "stream",
     "text": [
      "[Parallel(n_jobs=-1)]: Using backend LokyBackend with 4 concurrent workers.\n"
     ]
    },
    {
     "name": "stdout",
     "output_type": "stream",
     "text": [
      "Training scores\n",
      "accuracy: 0.7795 (0.0006)\n",
      "recall: 0.8434 (0.0012)\n",
      "precision: 0.7859 (0.0004)\n",
      "f1: 0.8136 (0.0006)\n",
      "roc_auc: 0.8626 (0.0004)\n",
      "\n",
      "Validation Scores\n",
      "accuracy: 0.7489 (0.0017)\n",
      "recall: 0.8172 (0.0040)\n",
      "precision: 0.7605 (0.0004)\n",
      "f1: 0.7878 (0.0020)\n",
      "roc_auc: 0.8287 (0.0018)\n"
     ]
    },
    {
     "name": "stderr",
     "output_type": "stream",
     "text": [
      "[Parallel(n_jobs=-1)]: Done   5 out of   5 | elapsed:   40.3s finished\n"
     ]
    }
   ],
   "source": [
    "clf_lgb = lgb.LGBMClassifier(n_jobs=-1)\n",
    "\n",
    "scores = util.cross_validate_scores(clf_lgb, X_train, y_train['sentiment'], cv=5, metrics=metrics)"
   ]
  },
  {
   "cell_type": "markdown",
   "metadata": {},
   "source": [
    "From the average fold validation scores it seems like the model is doing a pretty good job of not overfitting. As well it does much better than the baseline dummy model. We can perform some grid searching to try and gain lower bias ..."
   ]
  },
  {
   "cell_type": "markdown",
   "metadata": {},
   "source": [
    "### Randomized search"
   ]
  },
  {
   "cell_type": "markdown",
   "metadata": {},
   "source": [
    "Randomized search was chosen over the brute force grid search as grid searching would've taken too long and random search provides decent results in a much smaller amount of time"
   ]
  },
  {
   "cell_type": "code",
   "execution_count": 11,
   "metadata": {},
   "outputs": [],
   "source": [
    "# Start with frehs model\n",
    "clf_lgb = lgb.LGBMClassifier(n_jobs=-1)\n",
    "\n",
    "lgb_params_dists = {\n",
    "    'num_leaves': randint(1, 100),\n",
    "    'max_depth': [-1, 2, 4, 8, 10, 15],\n",
    "    'min_child_samples': randint(1, 40),\n",
    "    'min_child_weight': uniform(1e-4, 1e-1),\n",
    "    'n_estimators': randint(100, 2000),\n",
    "    'reg_alpha': uniform(1e-3, 1e1),\n",
    "    'reg_lambda': uniform(1e-3, 1e1),\n",
    "}\n",
    "\n",
    "lgb_random_search = RandomizedSearchCV(\n",
    "    estimator = clf_lgb, \n",
    "    param_distributions = lgb_params_dists, \n",
    "    n_iter = 500,\n",
    "    scoring = metrics,\n",
    "    refit = 'accuracy',\n",
    "    cv = 5,\n",
    "    iid = True,\n",
    "    n_jobs = -1,\n",
    "    return_train_score = True,\n",
    "    verbose = 1)"
   ]
  },
  {
   "cell_type": "code",
   "execution_count": 13,
   "metadata": {},
   "outputs": [],
   "source": [
    "# Load pre saved grid search\n",
    "lgb_random_search = joblib.load('../Models/lgb_random_search.pkl')\n",
    "\n",
    "# # Fit grid search\n",
    "# lgb_random_search.fit(X_train, y_train['sentiment'])\n",
    "\n",
    "# # Save grid search results \n",
    "# joblib.dump(lgb_random_search, '../Models/lgb_random_search.pkl')"
   ]
  },
  {
   "cell_type": "code",
   "execution_count": 14,
   "metadata": {},
   "outputs": [
    {
     "data": {
      "text/plain": [
       "{'max_depth': 4,\n",
       " 'min_child_samples': 11,\n",
       " 'min_child_weight': 0.05472073199021581,\n",
       " 'n_estimators': 992,\n",
       " 'num_leaves': 68,\n",
       " 'reg_alpha': 7.965547700906099,\n",
       " 'reg_lambda': 50.52560901217039}"
      ]
     },
     "execution_count": 14,
     "metadata": {},
     "output_type": "execute_result"
    },
    {
     "name": "stdout",
     "output_type": "stream",
     "text": [
      "\n",
      "Training scores\n",
      "accuracy: 0.89516036 (0.00052821)\n",
      "recall: 0.97303050 (0.00027790)\n",
      "precision: 0.90459717 (0.00039766)\n",
      "f1: 0.93756672 (0.00030849)\n",
      "roc_auc: 0.93812933 (0.00045325)\n",
      "\n",
      "Validation scores\n",
      "accuracy: 0.85844389 (0.00227024)\n",
      "recall: 0.95497126 (0.00211849)\n",
      "precision: 0.88022571 (0.00113323)\n",
      "f1: 0.91607548 (0.00138939)\n",
      "roc_auc: 0.86893571 (0.00228602)\n"
     ]
    }
   ],
   "source": [
    "# Check best model\n",
    "\n",
    "lgb_random_search.best_params_\n",
    "print()\n",
    "lgb_random_search_scores = util.best_grid_search_results(lgb_random_search)"
   ]
  },
  {
   "cell_type": "markdown",
   "metadata": {},
   "source": [
    "The best parameters found are shown above. Seems fairly reasonable though, max depth of 4 is not too deep and min child samples per leaf is 11 which is also enough which both help to prevent overfitting. There are 992 estimators which is much greater than the 100 default ones and so with more trees this helps to decrease the variance of the estimates. The regularization parameters do seem quite high though of alpha=8 and lambda=50 but this is most likely because the random search found that it needed these to account reduce overfitting and decrease variance of the estimators."
   ]
  },
  {
   "cell_type": "code",
   "execution_count": 15,
   "metadata": {},
   "outputs": [
    {
     "data": {
      "image/png": "[encoded data removed]",
      "text/plain": [
       "<Figure size 1440x720 with 1 Axes>"
      ]
     },
     "metadata": {
      "needs_background": "light"
     },
     "output_type": "display_data"
    }
   ],
   "source": [
    "# Compare default params with our new params from the random search\n",
    "\n",
    "scores['type'] = 'default'\n",
    "lgb_random_search_scores['type'] = 'random_search'\n",
    "\n",
    "combined_scores = lgb_random_search_scores.append(scores, ignore_index=True)\n",
    "\n",
    "# Barplot comparing scores\n",
    "f = plt.figure(figsize=(20,10))\n",
    "g = sns.barplot(x = 'val_scores',\n",
    "                y = 'metric', \n",
    "                data = combined_scores,\n",
    "                hue = 'type')\n",
    "g = g.set(ylabel='Metric', xlabel='Validation score', title='Comparison of parameters found with random search vs default params')"
   ]
  },
  {
   "cell_type": "markdown",
   "metadata": {},
   "source": [
    "Overall, the parameters found with the random search do much better than our default ones that we started with in all metrics and by a significant amount as well. By randomly sampling the parameter space we were able to automate the process of fine tuning the parameters, which would've been much more difficult and time consuming to do it manually."
   ]
  },
  {
   "cell_type": "markdown",
   "metadata": {},
   "source": [
    "### Bayesian Optimization"
   ]
  },
  {
   "cell_type": "markdown",
   "metadata": {},
   "source": [
    "The next approach is bayesian optimization, a more sophisticated method of finding the best parameters by modelling the functions as gaussian processes. For this we will be using the ROC AUC as the metric to optimize and we will be attempting to maximize with respect to the same parameters of the LGB that we defined above for our random search"
   ]
  },
  {
   "cell_type": "code",
   "execution_count": 16,
   "metadata": {},
   "outputs": [],
   "source": [
    "def lgb_score(num_leaves, max_depth, min_child_samples, min_child_weight, n_estimators, reg_alpha, reg_lambda):\n",
    "    '''\n",
    "    Define scoring function for bayesian optimizer \n",
    "    NOTE: we will be rounding the real numbers to nearest integers for discrete parameters. Small workaround as the package does not explicitly handle discrete parameters\n",
    "    '''\n",
    "    num_leaves = int(round(num_leaves))\n",
    "    max_depth = int(round(max_depth))\n",
    "    min_child_samples = int(round(min_child_samples))\n",
    "    n_estimators = int(round(n_estimators))\n",
    "    \n",
    "    clf_lgb = lgb.LGBMClassifier(num_leaves = num_leaves,\n",
    "                                 max_depth = max_depth,\n",
    "                                 min_child_samples = min_child_samples,\n",
    "                                 min_child_weight = min_child_weight,\n",
    "                                 n_estimators = n_estimators, \n",
    "                                 reg_alpha = reg_alpha,\n",
    "                                 reg_lambda = reg_lambda)\n",
    "    \n",
    "    score = cross_val_score(clf_lgb, X_train, y_train['sentiment'], scoring='roc_auc', cv=5, n_jobs=-1).mean()\n",
    "    \n",
    "    return score\n",
    "\n",
    "\n",
    "# Bounds for parameter space\n",
    "pbounds = {\n",
    "    'num_leaves': (20, 100),\n",
    "    'max_depth': (1, 50),\n",
    "    'min_child_samples': (1, 40),\n",
    "    'min_child_weight': (1e-4, 1e-1),\n",
    "    'n_estimators': (100, 2000),\n",
    "    'reg_alpha': (1e-3, 1e1),\n",
    "    'reg_lambda': (1e-3, 1e1)\n",
    "}"
   ]
  },
  {
   "cell_type": "code",
   "execution_count": 17,
   "metadata": {},
   "outputs": [
    {
     "name": "stdout",
     "output_type": "stream",
     "text": [
      "Wall time: 1.99 ms\n"
     ]
    },
    {
     "data": {
      "text/plain": [
       "<bayes_opt.bayesian_optimization.BayesianOptimization at 0x115bae39f08>"
      ]
     },
     "execution_count": 17,
     "metadata": {},
     "output_type": "execute_result"
    }
   ],
   "source": [
    "%%time\n",
    "\n",
    "# https://github.com/fmfn/BayesianOptimization\n",
    "\n",
    "# # Run bayesian optimization\n",
    "# optimizer = BayesianOptimization(\n",
    "#     f = lgb_score,\n",
    "#     pbounds = pbounds,\n",
    "#     random_state = 2,\n",
    "#     verbose = 1\n",
    "# )\n",
    "\n",
    "# # Log progress\n",
    "# logger = JSONLogger(path='../Models/lgbBayesOptLogger2.json')\n",
    "# optimizer.subscribe(Events.OPTMIZATION_STEP, logger)\n",
    "\n",
    "# optimizer.maximize(\n",
    "#     init_points = 5,\n",
    "#     n_iter = 100\n",
    "# )\n",
    "\n",
    "# Load saved results\n",
    "optimizer = BayesianOptimization(\n",
    "    f = lgb_score,\n",
    "    pbounds = pbounds,\n",
    "    random_state = 2,\n",
    "    verbose = 1\n",
    ")\n",
    "\n",
    "load_logs(optimizer, logs=['../Models/lgbBayesOptLogger1.json'])"
   ]
  },
  {
   "cell_type": "code",
   "execution_count": 20,
   "metadata": {},
   "outputs": [
    {
     "data": {
      "image/png": "[encoded data removed]",
      "text/plain": [
       "<Figure size 1080x576 with 1 Axes>"
      ]
     },
     "metadata": {
      "needs_background": "light"
     },
     "output_type": "display_data"
    }
   ],
   "source": [
    "# https://github.com/fmfn/BayesianOptimization\n",
    "\n",
    "def scoreHistory(optimizer):\n",
    "    scores = []\n",
    "    for i, res in enumerate(optimizer.res):\n",
    "        scores.append(res['target'])\n",
    "    return pd.DataFrame({'iter': range(1, len(optimizer.res)+1), 'score': scores})\n",
    "\n",
    "# Plot time series of score over the number of iterations\n",
    "score_hist = scoreHistory(optimizer)\n",
    "\n",
    "f = plt.figure(figsize=(15,8))\n",
    "g = sns.lineplot(x = 'iter',\n",
    "             y = 'score', \n",
    "             data = score_hist)\n",
    "g = g.set(xlabel='Iteration', ylabel='ROC AUC', title='LGB Bayesian Optimization history')"
   ]
  },
  {
   "cell_type": "markdown",
   "metadata": {},
   "source": [
    "Overall it does seem to be increasing the ROC AUC over several iterations. Due to time constraints it was stopped early"
   ]
  },
  {
   "cell_type": "code",
   "execution_count": 21,
   "metadata": {},
   "outputs": [
    {
     "data": {
      "text/plain": [
       "{'target': 0.8406174942962193,\n",
       " 'params': {'max_depth': 49.73789849911594,\n",
       "  'min_child_samples': 7.038631599974867,\n",
       "  'min_child_weight': 0.06004647183961244,\n",
       "  'n_estimators': 1986.0660488190204,\n",
       "  'num_leaves': 99.48589439732442,\n",
       "  'reg_alpha': 5.788856147760102,\n",
       "  'reg_lambda': 9.368931755402082}}"
      ]
     },
     "execution_count": 21,
     "metadata": {},
     "output_type": "execute_result"
    }
   ],
   "source": [
    "# Check best parameters\n",
    "optimizer.max"
   ]
  },
  {
   "cell_type": "markdown",
   "metadata": {},
   "source": [
    "The parameters seem quite different from the ones found from the randomized search. This one uses much more estimators 2000, has a much greater max tree depth and the regularization parameteres are not as high either. This would explain why it takes so long to train as there's 2000 trees with each a max depth of 50."
   ]
  },
  {
   "cell_type": "code",
   "execution_count": 22,
   "metadata": {},
   "outputs": [
    {
     "name": "stderr",
     "output_type": "stream",
     "text": [
      "[Parallel(n_jobs=-1)]: Using backend LokyBackend with 4 concurrent workers.\n"
     ]
    },
    {
     "name": "stdout",
     "output_type": "stream",
     "text": [
      "Training scores\n",
      "accuracy: 0.9998 (0.0000)\n",
      "recall: 0.9999 (0.0000)\n",
      "precision: 0.9997 (0.0000)\n",
      "f1: 0.9998 (0.0000)\n",
      "roc_auc: 1.0000 (0.0000)\n",
      "\n",
      "Validation Scores\n",
      "accuracy: 0.7590 (0.0013)\n",
      "recall: 0.8174 (0.0034)\n",
      "precision: 0.7732 (0.0017)\n",
      "f1: 0.7946 (0.0014)\n",
      "roc_auc: 0.8406 (0.0012)\n"
     ]
    },
    {
     "name": "stderr",
     "output_type": "stream",
     "text": [
      "[Parallel(n_jobs=-1)]: Done   5 out of   5 | elapsed: 24.1min finished\n"
     ]
    }
   ],
   "source": [
    "# Get best parameters from optimizer\n",
    "params = optimizer.max['params']\n",
    "max_depth = int(round(params['max_depth']))\n",
    "min_child_samples = int(round(params['min_child_samples']))\n",
    "min_child_weight = params['min_child_weight']\n",
    "n_estimators = int(round(params['n_estimators']))\n",
    "num_leaves = int(round(params['num_leaves']))\n",
    "reg_alpha = params['reg_alpha']\n",
    "reg_lambda = params['reg_lambda']\n",
    "\n",
    "# Define new LGB with best params\n",
    "clf_lgb = lgb.LGBMClassifier(num_leaves = num_leaves,\n",
    "                             max_depth = max_depth,\n",
    "                             min_child_samples = min_child_samples,\n",
    "                             min_child_weight = min_child_weight,\n",
    "                             n_estimators = n_estimators, \n",
    "                             reg_alpha = reg_alpha,\n",
    "                             reg_lambda = reg_lambda,\n",
    "                             n_jobs = -1)\n",
    "    \n",
    "# Cross val\n",
    "scores = util.cross_validate_scores(clf_lgb, X_train, y_train['sentiment'], cv=5, metrics=metrics)"
   ]
  },
  {
   "cell_type": "code",
   "execution_count": 25,
   "metadata": {},
   "outputs": [
    {
     "data": {
      "image/png": "[encoded data removed]",
      "text/plain": [
       "<Figure size 1440x720 with 1 Axes>"
      ]
     },
     "metadata": {
      "needs_background": "light"
     },
     "output_type": "display_data"
    }
   ],
   "source": [
    "# Compare score with other parameters\n",
    "\n",
    "scores['type'] = 'bayesian_optimization'\n",
    "\n",
    "combined_scores3 = combined_scores.append(scores)\n",
    "\n",
    "# Save\n",
    "combined_scores3.to_csv('../Models/lgb_combined_scores.csv')\n",
    "\n",
    "# Barplot comparing scores\n",
    "f = plt.figure(figsize=(20,10))\n",
    "g = sns.barplot(x = 'val_scores',\n",
    "                y = 'metric', \n",
    "                data = combined_scores3,\n",
    "                hue = 'type')\n",
    "g = g.set(ylabel='Metric', xlabel='Validation score', title='Comparison of parameters found with random search vs default params')"
   ]
  },
  {
   "cell_type": "markdown",
   "metadata": {},
   "source": [
    "## Test set scores"
   ]
  }
 ],
 "metadata": {
  "kernelspec": {
   "display_name": "Python [conda env:csi-4106-project]",
   "language": "python",
   "name": "conda-env-csi-4106-project-py"
  },
  "language_info": {
   "codemirror_mode": {
    "name": "ipython",
    "version": 3
   },
   "file_extension": ".py",
   "mimetype": "text/x-python",
   "name": "python",
   "nbconvert_exporter": "python",
   "pygments_lexer": "ipython3",
   "version": "3.7.5"
  }
 },
 "nbformat": 4,
 "nbformat_minor": 4
}
